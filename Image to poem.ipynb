{
 "cells": [
  {
   "cell_type": "markdown",
   "metadata": {},
   "source": [
    "# Image to poem"
   ]
  },
  {
   "cell_type": "markdown",
   "metadata": {},
   "source": [
    "## Description\n",
    "Takes an image as input, identifies it using the Google Vision API, and creates a poem about it  \n",
    "  \n",
    "Uses the [Google Vision API](https://cloud.google.com/vision/) to **detect the entity** in the image  \n",
    "Uses the [datamuse API](http://www.datamuse.com/api/) for the **word logic**  \n",
    "**Pictures** freely available on [Unsplash](https://unsplash.com/)"
   ]
  },
  {
   "cell_type": "markdown",
   "metadata": {},
   "source": [
    "## Todo :\n",
    "- Add poetry styles\n",
    "- Syllable counts\n",
    "- Paste text on image & export\n",
    "- Add custom variables (name for person/object/pet...)"
   ]
  },
  {
   "cell_type": "markdown",
   "metadata": {},
   "source": [
    "### Import libraries"
   ]
  },
  {
   "cell_type": "code",
   "execution_count": 1,
   "metadata": {
    "collapsed": true
   },
   "outputs": [],
   "source": [
    "import io\n",
    "import os\n",
    "\n",
    "import requests\n",
    "import html\n",
    "\n",
    "from google.cloud import vision\n",
    "from google.cloud.vision import types"
   ]
  },
  {
   "cell_type": "markdown",
   "metadata": {},
   "source": [
    "Set environment variable to the API key"
   ]
  },
  {
   "cell_type": "markdown",
   "metadata": {},
   "source": [
    "### Google Vision"
   ]
  },
  {
   "cell_type": "markdown",
   "metadata": {},
   "source": [
    "Creating a **Google Vision instance** using an **API key**"
   ]
  },
  {
   "cell_type": "code",
   "execution_count": 2,
   "metadata": {
    "collapsed": true
   },
   "outputs": [],
   "source": [
    "os.environ[\"GOOGLE_APPLICATION_CREDENTIALS\"] = './ressources/params.json'\n",
    "\n",
    "# Instantiates a client\n",
    "client = vision.ImageAnnotatorClient()"
   ]
  },
  {
   "cell_type": "markdown",
   "metadata": {},
   "source": [
    "Loads the **image file**"
   ]
  },
  {
   "cell_type": "markdown",
   "metadata": {},
   "source": [
    "We're using the following image of a bike :\n",
    "![Image from Unsplash.com](./images/bike.jpg \"Image from Unsplash.com\")"
   ]
  },
  {
   "cell_type": "code",
   "execution_count": 42,
   "metadata": {
    "collapsed": true
   },
   "outputs": [],
   "source": [
    "# The name of the image file to annotate\n",
    "file_name = './images/bike.jpg'\n",
    "\n",
    "# Loads the image into memory\n",
    "with io.open(file_name, 'rb') as image_file:\n",
    "    content = image_file.read()\n",
    "\n",
    "image = types.Image(content=content)"
   ]
  },
  {
   "cell_type": "markdown",
   "metadata": {},
   "source": [
    "Prints out the **detected entities** and their **score**"
   ]
  },
  {
   "cell_type": "code",
   "execution_count": 43,
   "metadata": {},
   "outputs": [
    {
     "name": "stdout",
     "output_type": "stream",
     "text": [
      "Labels : score\n",
      "bicycle : 98.9%\n",
      "land vehicle : 98.6%\n",
      "road bicycle : 97.8%\n",
      "yellow : 92.5%\n",
      "bicycle wheel : 91.8%\n",
      "wall : 89.6%\n",
      "bicycle frame : 87.4%\n",
      "vehicle : 83.4%\n",
      "snapshot : 81.8%\n",
      "sports equipment : 81.6%\n"
     ]
    }
   ],
   "source": [
    "# Performs label detection on the image file\n",
    "response = client.label_detection(image=image)\n",
    "labels = response.label_annotations\n",
    "\n",
    "print('Labels : score')\n",
    "for label in labels:\n",
    "    print(f'{label.description} : {round(label.score * 100, 1)}%')"
   ]
  },
  {
   "cell_type": "markdown",
   "metadata": {},
   "source": [
    "### Rhymes and related words using DataMuse"
   ]
  },
  {
   "cell_type": "markdown",
   "metadata": {},
   "source": [
    "Displays a few functionalities of the **datamuse API**"
   ]
  },
  {
   "cell_type": "code",
   "execution_count": 48,
   "metadata": {},
   "outputs": [
    {
     "name": "stdout",
     "output_type": "stream",
     "text": [
      "Word : bicycle\n",
      "\n",
      "Commonly used adjectives : new bicycle\n",
      "Commonly used adjectives : stationary bicycle\n",
      "Commonly used adjectives : old bicycle\n",
      "Commonly used adjectives : first bicycle\n",
      "Commonly used adjectives : motor bicycle\n",
      "Common words following bicycle : racer\n",
      "Common words following bicycle : handlebars\n",
      "Common words following bicycle : aba\n",
      "Common words following bicycle : bike\n",
      "Similar words : pedal\n",
      "Similar words : wheel\n",
      "Similar words : cycle\n",
      "Similar words : bikes\n",
      "Rhymes with bicycle : thy sickle\n"
     ]
    }
   ],
   "source": [
    "word = labels[0].description\n",
    "\n",
    "with requests.get('http://api.datamuse.com/words?' + 'rel_jjb=' + word) as f:\n",
    "    adj_json = f.json()\n",
    "    adj = [result['word'] for result in adj_json]\n",
    "\n",
    "with requests.get('http://api.datamuse.com/words?' + 'ml=' + word) as f:\n",
    "    ml_json = f.json()\n",
    "    ml = [result['word'] for result in ml_json]\n",
    "\n",
    "with requests.get('http://api.datamuse.com/words?' + 'rel_trg=' + word) as f:\n",
    "    trg_json = f.json()\n",
    "    trg = [result['word'] for result in trg_json]\n",
    "\n",
    "with requests.get('http://api.datamuse.com/words?' + 'rel_rhy=' + word) as f:\n",
    "    rhy_json = f.json()\n",
    "    rhy = [result['word'] for result in rhy_json]\n",
    "\n",
    "    print('Word : ' + word)\n",
    "    print('')\n",
    "    for i in range(len(adj[:5])) : print('Commonly used adjectives : ' + adj[i] + ' ' + word)\n",
    "\n",
    "    for i in range(len(trg[:5])) : \n",
    "        if i != 0 : \n",
    "            print('Common words following ' + word + ' : ' +trg[i])\n",
    "\n",
    "    for i in range(len(ml[:5])) : \n",
    "        if i != 0 : \n",
    "            print('Similar words : ' + ml[i])\n",
    "\n",
    "    for i in range(len(rhy[:5])) : \n",
    "        if i != 0 : \n",
    "            print('Rhymes with ' + word + ' : '+ rhy[i])\n"
   ]
  },
  {
   "cell_type": "markdown",
   "metadata": {},
   "source": [
    "### Making a test poem"
   ]
  },
  {
   "cell_type": "code",
   "execution_count": 49,
   "metadata": {},
   "outputs": [
    {
     "name": "stdout",
     "output_type": "stream",
     "text": [
      "Title : Tale of the bicycle\n",
      "\n",
      "Is this the new bicycle\n",
      "Very stationary icicle\n",
      "The old bicycle\n",
      "Very first thy sickle\n",
      "Not unlike a motor bike; motocross\n"
     ]
    }
   ],
   "source": [
    "for i in [0]:\n",
    "    word = labels[i].description\n",
    "    try : \n",
    "        word = word.split(' ')[-1]\n",
    "    except:\n",
    "        pass\n",
    "    with requests.get('http://api.datamuse.com/words?' + 'rel_jjb=' + word) as f:\n",
    "        adj_json = f.json()\n",
    "        adj = [result['word'] for result in adj_json]\n",
    "        \n",
    "    with requests.get('http://api.datamuse.com/words?' + 'ml=' + word) as f:\n",
    "        ml_json = f.json()\n",
    "        ml = [result['word'] for result in ml_json]\n",
    "        \n",
    "    with requests.get('http://api.datamuse.com/words?' + 'rel_trg=' + word) as f:\n",
    "        trg_json = f.json()\n",
    "        trg = [result['word'] for result in trg_json]\n",
    "\n",
    "    with requests.get('http://api.datamuse.com/words?' + 'rel_rhy=' + word) as f:\n",
    "        rhy_json = f.json()\n",
    "        rhy = [result['word'] for result in rhy_json]\n",
    "        \n",
    "        print('Title : Tale of the ' + word)\n",
    "        print('')\n",
    "        print('Is this the ' + adj[0] + ' ' + word)\n",
    "        print('Very ' + adj[1] + ' ' + rhy[0])        \n",
    "        print('The ' + adj[2] + ' ' + word)\n",
    "        print('Very ' + adj[3] + ' ' + rhy[1])\n",
    "        print(\"Not unlike a \" + adj[4] + ' ' + ml[0] + '; ' + trg[0])\n",
    "        "
   ]
  },
  {
   "cell_type": "code",
   "execution_count": null,
   "metadata": {
    "collapsed": true
   },
   "outputs": [],
   "source": []
  }
 ],
 "metadata": {
  "kernelspec": {
   "display_name": "Python 3",
   "language": "python",
   "name": "python3"
  },
  "language_info": {
   "codemirror_mode": {
    "name": "ipython",
    "version": 3
   },
   "file_extension": ".py",
   "mimetype": "text/x-python",
   "name": "python",
   "nbconvert_exporter": "python",
   "pygments_lexer": "ipython3",
   "version": "3.6.3"
  }
 },
 "nbformat": 4,
 "nbformat_minor": 2
}
